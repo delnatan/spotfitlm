{
 "cells": [
  {
   "cell_type": "code",
   "execution_count": 10,
   "metadata": {},
   "outputs": [],
   "source": [
    "import numpy as np\n",
    "import scipy as sp"
   ]
  },
  {
   "cell_type": "code",
   "execution_count": 8,
   "metadata": {},
   "outputs": [],
   "source": [
    "R = np.random.rand(10,5)\n",
    "H = R.T @ R"
   ]
  },
  {
   "cell_type": "code",
   "execution_count": 18,
   "metadata": {},
   "outputs": [
    {
     "name": "stdout",
     "output_type": "stream",
     "text": [
      "0\n"
     ]
    }
   ],
   "source": [
    "λ, Q, info = sp.linalg.lapack.dsyev(H)\n",
    "print(info)"
   ]
  },
  {
   "cell_type": "code",
   "execution_count": 19,
   "metadata": {},
   "outputs": [
    {
     "name": "stdout",
     "output_type": "stream",
     "text": [
      "[[ 1.1448995  -0.10278076 -0.46879453 -0.15001808 -0.38663042]\n",
      " [-0.10278076  3.87870869  0.52924203 -3.33951527 -1.26758726]\n",
      " [-0.46879453  0.52924203  0.83274624 -0.8209932  -0.06493575]\n",
      " [-0.15001808 -3.33951527 -0.8209932   3.88671335  0.75058208]\n",
      " [-0.38663042 -1.26758726 -0.06493575  0.75058208  1.29646652]]\n"
     ]
    }
   ],
   "source": [
    "print(np.linalg.inv(H))"
   ]
  },
  {
   "cell_type": "code",
   "execution_count": 21,
   "metadata": {},
   "outputs": [
    {
     "name": "stdout",
     "output_type": "stream",
     "text": [
      "[[ 1.1448995  -0.10278076 -0.46879453 -0.15001808 -0.38663042]\n",
      " [-0.10278076  3.87870869  0.52924203 -3.33951527 -1.26758726]\n",
      " [-0.46879453  0.52924203  0.83274624 -0.8209932  -0.06493575]\n",
      " [-0.15001808 -3.33951527 -0.8209932   3.88671335  0.75058208]\n",
      " [-0.38663042 -1.26758726 -0.06493575  0.75058208  1.29646652]]\n"
     ]
    }
   ],
   "source": [
    "print(Q @ np.diag(1/λ) @ Q.T)"
   ]
  },
  {
   "cell_type": "code",
   "execution_count": null,
   "metadata": {},
   "outputs": [],
   "source": []
  }
 ],
 "metadata": {
  "kernelspec": {
   "display_name": "inference (Python 3.11)",
   "language": "python",
   "name": "inference"
  },
  "language_info": {
   "codemirror_mode": {
    "name": "ipython",
    "version": 3
   },
   "file_extension": ".py",
   "mimetype": "text/x-python",
   "name": "python",
   "nbconvert_exporter": "python",
   "pygments_lexer": "ipython3",
   "version": "3.11.6"
  }
 },
 "nbformat": 4,
 "nbformat_minor": 2
}
