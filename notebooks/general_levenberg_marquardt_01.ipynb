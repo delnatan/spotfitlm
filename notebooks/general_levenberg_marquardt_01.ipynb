{
 "cells": [
  {
   "cell_type": "code",
   "execution_count": 1,
   "metadata": {},
   "outputs": [],
   "source": [
    "import jax\n",
    "import scipy as sp\n",
    "import jax.numpy as jnp\n",
    "import matplotlib.pyplot as plt\n",
    "import tifffile\n",
    "import _glm as glmu\n",
    "jnp.set_printoptions(formatter={\"float\": '{:7.5f}'.format})"
   ]
  },
  {
   "cell_type": "code",
   "execution_count": 2,
   "metadata": {},
   "outputs": [
    {
     "name": "stdout",
     "output_type": "stream",
     "text": [
      "boxsize       : 13 x 13\n",
      "data min, max : 93 - 328\n"
     ]
    },
    {
     "data": {
      "text/plain": [
       "<matplotlib.image.AxesImage at 0x12d019050>"
      ]
     },
     "execution_count": 2,
     "metadata": {},
     "output_type": "execute_result"
    },
    {
     "data": {
      "image/png": "[encoded data removed]",
      "text/plain": [
       "<Figure size 640x480 with 1 Axes>"
      ]
     },
     "metadata": {},
     "output_type": "display_data"
    }
   ],
   "source": [
    "data = tifffile.imread(\"mol01_13x13.tif\")\n",
    "Ny, Nx = data.shape\n",
    "# create meshgrid\n",
    "_x = jnp.arange(-(Nx - 1) // 2, Nx // 2 + 1)\n",
    "_y = jnp.arange(-(Ny - 1) // 2, Ny // 2 + 1)\n",
    "gy, gx = jnp.meshgrid(_y, _x, indexing=\"ij\")\n",
    "\n",
    "print(f\"boxsize       : {Ny} x {Nx}\")\n",
    "print(f\"data min, max : {data.min():.0f} - {data.max():.0f}\")\n",
    "\n",
    "plt.imshow(data)"
   ]
  },
  {
   "cell_type": "code",
   "execution_count": 13,
   "metadata": {},
   "outputs": [
    {
     "name": "stdout",
     "output_type": "stream",
     "text": [
      "Gradient g = \n",
      "[0.00000 0.00000 1.00000 100.00000 100.00000]\n",
      "[49.89516 -125.79113 -820.55713 -4.36847 -25.44833]\n",
      "iter = 0, |g| = 4.2746E+01, |dp| = 2.1212E+02, s =   7.4817E+02, rho =  1.361, mu = 1.0000E-03\n",
      "Gradient g = \n",
      "[-0.15353 0.39349 1.65564 138.44296 105.90755]\n",
      "[17.45784 -50.10587 -106.92934 -2.51684 1.14078]\n",
      "iter = 1, |g| = 1.2055E+01, |dp| = 3.0453E+02, s =   1.2536E+02, rho =  1.021, mu = 3.3333E-04\n",
      "Gradient g = \n",
      "[-0.22995 0.61584 1.47095 209.10077 102.14499]\n",
      "[-7.45265 22.73797 -153.34686 -0.80216 -2.32155]\n",
      "iter = 2, |g| = 6.1718E+00, |dp| = 1.2807E+02, s =   3.5234E+01, rho =  1.042, mu = 1.1111E-04\n",
      "Gradient g = \n",
      "[-0.21194 0.56107 1.48255 231.87050 102.31171]\n",
      "[0.00970 -0.32958 -6.20010 -0.04689 -0.06249]\n",
      "iter = 3, |g| = 3.1312E-01, |dp| = 1.3348E+01, s =   2.3839E+01, rho =  1.004, mu = 3.7037E-05\n",
      "Gradient g = \n",
      "[-0.21195 0.56183 1.47949 234.12694 102.30711]\n",
      "[0.00280 -0.01313 -0.08536 -0.00049 -0.00105]\n",
      "iter = 4, |g| = 3.6007E-03, |dp| = 1.1826E-01, s =   2.3795E+01, rho = 18.262, mu = 1.2346E-05\n",
      "Gradient g = \n",
      "[-0.21196 0.56186 1.47947 234.14679 102.30714]\n",
      "[0.00006 0.00004 0.00017 -0.00000 0.00000]\n",
      "iter = 5, |g| = 5.4258E-06, |dp| = 3.5402E-04, s =   2.3795E+01, rho = 544130.688, mu = 4.1152E-06\n"
     ]
    }
   ],
   "source": [
    "# initial parameter guess\n",
    "p0 = jnp.array([0.0, 0.0, 1.0, 100.0, 100.0])\n",
    "lb = jnp.array([-6.0, -6.0, 0.0, 0.0, 0.0]) # lower bound\n",
    "ub = jnp.array([6.0, 6.0, 3.0, 1000.0, 1000.0]) # upper bound\n",
    "\n",
    "# prototype of levenberg marquardt algorithm\n",
    "max_iter = 100\n",
    "gtol = 1e-3\n",
    "nfeval = 0\n",
    "list_pars = []\n",
    "\n",
    "p = jnp.copy(p0)\n",
    "mu = 1e-3\n",
    "I = jnp.eye(p0.size)\n",
    "list_pars.append(p0)\n",
    "\n",
    "accept = 3.0\n",
    "reject = 2.0\n",
    "\n",
    "for it in range(max_iter):\n",
    "    # compute objective function\n",
    "    s = glmu.negloglik(p, data, gy, gx)\n",
    "    # gradient, g\n",
    "    g = glmu.fgrad(p, data, gy, gx)\n",
    "    # approximated hessian, H\n",
    "    J = glmu.funcjac(p, gy, gx).reshape(-1, len(p0))\n",
    "    model = glmu.f(p, gy, gx).ravel()\n",
    "    H = J.T @ jnp.diag(data.ravel() / model**2) @ J\n",
    "\n",
    "    # local model\n",
    "    \n",
    "\n",
    "\n",
    "    "
   ]
  },
  {
   "cell_type": "code",
   "execution_count": 27,
   "metadata": {},
   "outputs": [
    {
     "data": {
      "text/plain": [
       "Array([-0.21196, 0.56186, 1.47947, 234.14633, 102.30714], dtype=float32)"
      ]
     },
     "execution_count": 27,
     "metadata": {},
     "output_type": "execute_result"
    }
   ],
   "source": [
    "p"
   ]
  },
  {
   "cell_type": "code",
   "execution_count": 15,
   "metadata": {},
   "outputs": [
    {
     "name": "stdout",
     "output_type": "stream",
     "text": [
      "[[0.00224 -0.00001 0.00000 0.00005 -0.00001]\n",
      " [-0.00001 0.00222 -0.00002 0.00402 0.00031]\n",
      " [0.00000 -0.00002 0.00122 -0.21047 -0.01436]\n",
      " [0.00005 0.00402 -0.21047 76.36839 0.59046]\n",
      " [-0.00001 0.00031 -0.01436 0.59046 0.92714]]\n"
     ]
    }
   ],
   "source": [
    "covar = jnp.linalg.inv(Hopt)\n",
    "print(covar)"
   ]
  },
  {
   "cell_type": "code",
   "execution_count": 17,
   "metadata": {},
   "outputs": [
    {
     "data": {
      "text/plain": [
       "[<matplotlib.lines.Line2D at 0x16761d250>]"
      ]
     },
     "execution_count": 17,
     "metadata": {},
     "output_type": "execute_result"
    },
    {
     "data": {
      "image/png": "[encoded data removed]",
      "text/plain": [
       "<Figure size 640x480 with 1 Axes>"
      ]
     },
     "metadata": {},
     "output_type": "display_data"
    }
   ],
   "source": [
    "plt.imshow(data)\n",
    "plt.plot(6 + p[0], 6 + p[1], 'r+')"
   ]
  },
  {
   "cell_type": "code",
   "execution_count": 18,
   "metadata": {},
   "outputs": [
    {
     "name": "stdout",
     "output_type": "stream",
     "text": [
      "[[0.04734     nan 0.00058 0.00708     nan]\n",
      " [    nan 0.04707     nan 0.06339 0.01765]\n",
      " [0.00058     nan 0.03497     nan     nan]\n",
      " [0.00708 0.06339     nan 8.73890 0.76841]\n",
      " [    nan 0.01765     nan 0.76841 0.96288]]\n"
     ]
    }
   ],
   "source": [
    "psigmas = jnp.sqrt(covar)\n",
    "print(psigmas)"
   ]
  },
  {
   "cell_type": "code",
   "execution_count": 14,
   "metadata": {},
   "outputs": [
    {
     "name": "stdout",
     "output_type": "stream",
     "text": [
      "[ 0.002  0.002  0.001 76.368  0.927]\n"
     ]
    }
   ],
   "source": [
    "print(covar)"
   ]
  },
  {
   "cell_type": "code",
   "execution_count": 30,
   "metadata": {},
   "outputs": [
    {
     "data": {
      "text/plain": [
       "Array([ 8.744,  0.047,  0.047,  0.025,  0.963], dtype=float32)"
      ]
     },
     "execution_count": 30,
     "metadata": {},
     "output_type": "execute_result"
    }
   ],
   "source": [
    "jnp.sqrt(jnp.diag(jnp.linalg.inv(H))) "
   ]
  }
 ],
 "metadata": {
  "kernelspec": {
   "display_name": "inference (Python 3.11)",
   "language": "python",
   "name": "inference"
  },
  "language_info": {
   "codemirror_mode": {
    "name": "ipython",
    "version": 3
   },
   "file_extension": ".py",
   "mimetype": "text/x-python",
   "name": "python",
   "nbconvert_exporter": "python",
   "pygments_lexer": "ipython3",
   "version": "3.11.6"
  }
 },
 "nbformat": 4,
 "nbformat_minor": 2
}
