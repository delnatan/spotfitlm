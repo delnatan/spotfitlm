{
 "cells": [
  {
   "cell_type": "code",
   "execution_count": 1,
   "metadata": {},
   "outputs": [],
   "source": [
    "import jax.numpy as jnp\n",
    "import jax\n",
    "import numpy as np\n",
    "import matplotlib.pyplot as plt\n",
    "jnp.set_printoptions(\n",
    "    formatter={\"float\": \"{:7.4f}\".format}\n",
    ")"
   ]
  },
  {
   "cell_type": "code",
   "execution_count": 2,
   "metadata": {},
   "outputs": [],
   "source": [
    "def symmetric_gaussian(p, xcoords, ycoords):\n",
    "    xc, yc, sigma, A, bg = p\n",
    "    xdiff = xcoords - xc\n",
    "    ydiff = ycoords - yc\n",
    "    phi = xdiff**2 / (2 * sigma **2) + ydiff**2 / (2*sigma**2)\n",
    "    return A * jnp.exp(-phi) + bg\n"
   ]
  },
  {
   "cell_type": "code",
   "execution_count": 3,
   "metadata": {},
   "outputs": [],
   "source": [
    "boxsize = 13\n",
    "xp = jnp.arange(-(boxsize-1) // 2, boxsize // 2 + 1)\n",
    "yp = jnp.arange(-(boxsize-1) // 2, boxsize // 2 + 1)\n",
    "xcoords, ycoords = jnp.meshgrid(xp, yp)\n",
    "pars = [0.0, 0.0, 1.5, 50.0, 100.0]\n",
    "\n"
   ]
  },
  {
   "cell_type": "code",
   "execution_count": 4,
   "metadata": {},
   "outputs": [],
   "source": [
    "G = symmetric_gaussian(pars, xcoords, ycoords)"
   ]
  },
  {
   "cell_type": "code",
   "execution_count": 5,
   "metadata": {},
   "outputs": [
    {
     "name": "stdout",
     "output_type": "stream",
     "text": [
      "100.000 100.000 100.000 100.002 100.007 100.013 100.017 100.013 100.007 100.002 100.000 100.000 100.000 \n",
      "100.000 100.001 100.006 100.026 100.079 100.155 100.193 100.155 100.079 100.026 100.006 100.001 100.000 \n",
      "100.000 100.006 100.041 100.193 100.587 101.144 101.428 101.144 100.587 100.193 100.041 100.006 100.000 \n",
      "100.002 100.026 100.193 100.916 102.782 105.418 106.767 105.418 102.782 100.916 100.193 100.026 100.002 \n",
      "100.007 100.079 100.587 102.782 108.451 116.460 120.556 116.460 108.451 102.782 100.587 100.079 100.007 \n",
      "100.013 100.155 101.144 105.418 116.460 132.059 140.037 132.059 116.460 105.418 101.144 100.155 100.013 \n",
      "100.017 100.193 101.428 106.767 120.556 140.037 150.000 140.037 120.556 106.767 101.428 100.193 100.017 \n",
      "100.013 100.155 101.144 105.418 116.460 132.059 140.037 132.059 116.460 105.418 101.144 100.155 100.013 \n",
      "100.007 100.079 100.587 102.782 108.451 116.460 120.556 116.460 108.451 102.782 100.587 100.079 100.007 \n",
      "100.002 100.026 100.193 100.916 102.782 105.418 106.767 105.418 102.782 100.916 100.193 100.026 100.002 \n",
      "100.000 100.006 100.041 100.193 100.587 101.144 101.428 101.144 100.587 100.193 100.041 100.006 100.000 \n",
      "100.000 100.001 100.006 100.026 100.079 100.155 100.193 100.155 100.079 100.026 100.006 100.001 100.000 \n",
      "100.000 100.000 100.000 100.002 100.007 100.013 100.017 100.013 100.007 100.002 100.000 100.000 100.000 \n"
     ]
    }
   ],
   "source": [
    "for i in range(G.shape[0]):\n",
    "    for j in range(G.shape[1]):\n",
    "        print(f\"{G[i,j]:6.3f} \", end=\"\")\n",
    "    print(\"\\n\", end=\"\")"
   ]
  },
  {
   "cell_type": "code",
   "execution_count": 6,
   "metadata": {},
   "outputs": [],
   "source": [
    "J = jax.jacobian(symmetric_gaussian, argnums=0)"
   ]
  },
  {
   "cell_type": "code",
   "execution_count": 7,
   "metadata": {},
   "outputs": [],
   "source": [
    "jacvals = jnp.array(J(pars, xcoords, ycoords))\n",
    "jacvals = jacvals.reshape(5, -1).T"
   ]
  },
  {
   "cell_type": "code",
   "execution_count": 8,
   "metadata": {},
   "outputs": [
    {
     "name": "stdout",
     "output_type": "stream",
     "text": [
      "-0.0000 -0.0000  0.0001  0.0000  1.0000 \n",
      "-0.0001 -0.0002  0.0012  0.0000  1.0000 \n",
      "-0.0009 -0.0013  0.0074  0.0000  1.0000 \n",
      "-0.0030 -0.0061  0.0303  0.0000  1.0000 \n",
      "-0.0061 -0.0184  0.0817  0.0001  1.0000 \n",
      "-0.0060 -0.0358  0.1472  0.0003  1.0000 \n",
      "-0.0000 -0.0447  0.1789  0.0003  1.0000 \n",
      " 0.0060 -0.0358  0.1472  0.0003  1.0000 \n",
      " 0.0061 -0.0184  0.0817  0.0001  1.0000 \n",
      " 0.0030 -0.0061  0.0303  0.0000  1.0000 \n",
      " 0.0009 -0.0013  0.0074  0.0000  1.0000 \n",
      " 0.0001 -0.0002  0.0012  0.0000  1.0000 \n",
      " 0.0000 -0.0000  0.0001  0.0000  1.0000 \n",
      "-0.0002 -0.0001  0.0012  0.0000  1.0000 \n",
      "-0.0017 -0.0017  0.0111  0.0000  1.0000 \n",
      "-0.0098 -0.0123  0.0671  0.0001  1.0000 \n",
      "-0.0349 -0.0581  0.2635  0.0005  1.0000 \n",
      "-0.0706 -0.1766  0.6828  0.0016  1.0000 \n",
      "-0.0688 -0.3440  1.1924  0.0031  1.0000 \n",
      "-0.0000 -0.4295  1.4318  0.0039  1.0000 \n",
      " 0.0688 -0.3440  1.1924  0.0031  1.0000 \n",
      " 0.0706 -0.1766  0.6828  0.0016  1.0000 \n",
      " 0.0349 -0.0581  0.2635  0.0005  1.0000 \n",
      " 0.0098 -0.0123  0.0671  0.0001  1.0000 \n",
      " 0.0017 -0.0017  0.0111  0.0000  1.0000 \n",
      " 0.0002 -0.0001  0.0012  0.0000  1.0000 \n",
      "-0.0013 -0.0009  0.0074  0.0000  1.0000 \n",
      "-0.0123 -0.0098  0.0671  0.0001  1.0000 \n",
      "-0.0725 -0.0725  0.3868  0.0008  1.0000 \n",
      "-0.2577 -0.3436  1.4318  0.0039  1.0000 \n",
      "-0.5219 -1.0439  3.4796  0.0117  1.0000 \n",
      "-0.5083 -2.0332  5.7607  0.0229  1.0000 \n",
      "-0.0000 -2.5392  6.7711  0.0286  1.0000 \n",
      " 0.5083 -2.0332  5.7607  0.0229  1.0000 \n",
      " 0.5219 -1.0439  3.4796  0.0117  1.0000 \n",
      " 0.2577 -0.3436  1.4318  0.0039  1.0000 \n",
      " 0.0725 -0.0725  0.3868  0.0008  1.0000 \n",
      " 0.0123 -0.0098  0.0671  0.0001  1.0000 \n",
      " 0.0013 -0.0009  0.0074  0.0000  1.0000 \n",
      "-0.0061 -0.0030  0.0303  0.0000  1.0000 \n",
      "-0.0581 -0.0349  0.2635  0.0005  1.0000 \n",
      "-0.3436 -0.2577  1.4318  0.0039  1.0000 \n",
      "-1.2210 -1.2210  4.8842  0.0183  1.0000 \n",
      "-2.4728 -3.7092 10.7155  0.0556  1.0000 \n",
      "-2.4082 -7.2245 16.0545  0.1084  1.0000 \n",
      "-0.0000 -9.0224 18.0447  0.1353  1.0000 \n",
      " 2.4082 -7.2245 16.0545  0.1084  1.0000 \n",
      " 2.4728 -3.7092 10.7155  0.0556  1.0000 \n",
      " 1.2210 -1.2210  4.8842  0.0183  1.0000 \n",
      " 0.3436 -0.2577  1.4318  0.0039  1.0000 \n",
      " 0.0581 -0.0349  0.2635  0.0005  1.0000 \n",
      " 0.0061 -0.0030  0.0303  0.0000  1.0000 \n",
      "-0.0184 -0.0061  0.0817  0.0001  1.0000 \n",
      "-0.1766 -0.0706  0.6828  0.0016  1.0000 \n",
      "-1.0439 -0.5219  3.4796  0.0117  1.0000 \n",
      "-3.7092 -2.4728 10.7155  0.0556  1.0000 \n",
      "-7.5117 -7.5117 20.0312  0.1690  1.0000 \n",
      "-7.3154 -14.6308 24.3847  0.3292  1.0000 \n",
      "-0.0000 -18.2717 24.3622  0.4111  1.0000 \n",
      " 7.3154 -14.6308 24.3847  0.3292  1.0000 \n",
      " 7.5117 -7.5117 20.0312  0.1690  1.0000 \n",
      " 3.7092 -2.4728 10.7155  0.0556  1.0000 \n",
      " 1.0439 -0.5219  3.4796  0.0117  1.0000 \n",
      " 0.1766 -0.0706  0.6828  0.0016  1.0000 \n",
      " 0.0184 -0.0061  0.0817  0.0001  1.0000 \n",
      "-0.0358 -0.0060  0.1472  0.0003  1.0000 \n",
      "-0.3440 -0.0688  1.1924  0.0031  1.0000 \n",
      "-2.0332 -0.5083  5.7607  0.0229  1.0000 \n",
      "-7.2245 -2.4082 16.0545  0.1084  1.0000 \n",
      "-14.6308 -7.3154 24.3847  0.3292  1.0000 \n",
      "-14.2485 -14.2485 18.9979  0.6412  1.0000 \n",
      "-0.0000 -17.7942 11.8628  0.8007  1.0000 \n",
      "14.2485 -14.2485 18.9979  0.6412  1.0000 \n",
      "14.6308 -7.3154 24.3847  0.3292  1.0000 \n",
      " 7.2245 -2.4082 16.0545  0.1084  1.0000 \n",
      " 2.0332 -0.5083  5.7607  0.0229  1.0000 \n",
      " 0.3440 -0.0688  1.1924  0.0031  1.0000 \n",
      " 0.0358 -0.0060  0.1472  0.0003  1.0000 \n",
      "-0.0447 -0.0000  0.1789  0.0003  1.0000 \n",
      "-0.4295 -0.0000  1.4318  0.0039  1.0000 \n",
      "-2.5392 -0.0000  6.7711  0.0286  1.0000 \n",
      "-9.0224 -0.0000 18.0447  0.1353  1.0000 \n",
      "-18.2717 -0.0000 24.3622  0.4111  1.0000 \n",
      "-17.7942 -0.0000 11.8628  0.8007  1.0000 \n",
      "-0.0000 -0.0000 -0.0000  1.0000  1.0000 \n",
      "17.7942 -0.0000 11.8628  0.8007  1.0000 \n",
      "18.2717 -0.0000 24.3622  0.4111  1.0000 \n",
      " 9.0224 -0.0000 18.0447  0.1353  1.0000 \n",
      " 2.5392 -0.0000  6.7711  0.0286  1.0000 \n",
      " 0.4295 -0.0000  1.4318  0.0039  1.0000 \n",
      " 0.0447 -0.0000  0.1789  0.0003  1.0000 \n",
      "-0.0358  0.0060  0.1472  0.0003  1.0000 \n",
      "-0.3440  0.0688  1.1924  0.0031  1.0000 \n",
      "-2.0332  0.5083  5.7607  0.0229  1.0000 \n",
      "-7.2245  2.4082 16.0545  0.1084  1.0000 \n",
      "-14.6308  7.3154 24.3847  0.3292  1.0000 \n",
      "-14.2485 14.2485 18.9979  0.6412  1.0000 \n",
      "-0.0000 17.7942 11.8628  0.8007  1.0000 \n",
      "14.2485 14.2485 18.9979  0.6412  1.0000 \n",
      "14.6308  7.3154 24.3847  0.3292  1.0000 \n",
      " 7.2245  2.4082 16.0545  0.1084  1.0000 \n",
      " 2.0332  0.5083  5.7607  0.0229  1.0000 \n",
      " 0.3440  0.0688  1.1924  0.0031  1.0000 \n",
      " 0.0358  0.0060  0.1472  0.0003  1.0000 \n",
      "-0.0184  0.0061  0.0817  0.0001  1.0000 \n",
      "-0.1766  0.0706  0.6828  0.0016  1.0000 \n",
      "-1.0439  0.5219  3.4796  0.0117  1.0000 \n",
      "-3.7092  2.4728 10.7155  0.0556  1.0000 \n",
      "-7.5117  7.5117 20.0312  0.1690  1.0000 \n",
      "-7.3154 14.6308 24.3847  0.3292  1.0000 \n",
      "-0.0000 18.2717 24.3622  0.4111  1.0000 \n",
      " 7.3154 14.6308 24.3847  0.3292  1.0000 \n",
      " 7.5117  7.5117 20.0312  0.1690  1.0000 \n",
      " 3.7092  2.4728 10.7155  0.0556  1.0000 \n",
      " 1.0439  0.5219  3.4796  0.0117  1.0000 \n",
      " 0.1766  0.0706  0.6828  0.0016  1.0000 \n",
      " 0.0184  0.0061  0.0817  0.0001  1.0000 \n",
      "-0.0061  0.0030  0.0303  0.0000  1.0000 \n",
      "-0.0581  0.0349  0.2635  0.0005  1.0000 \n",
      "-0.3436  0.2577  1.4318  0.0039  1.0000 \n",
      "-1.2210  1.2210  4.8842  0.0183  1.0000 \n",
      "-2.4728  3.7092 10.7155  0.0556  1.0000 \n",
      "-2.4082  7.2245 16.0545  0.1084  1.0000 \n",
      "-0.0000  9.0224 18.0447  0.1353  1.0000 \n",
      " 2.4082  7.2245 16.0545  0.1084  1.0000 \n",
      " 2.4728  3.7092 10.7155  0.0556  1.0000 \n",
      " 1.2210  1.2210  4.8842  0.0183  1.0000 \n",
      " 0.3436  0.2577  1.4318  0.0039  1.0000 \n",
      " 0.0581  0.0349  0.2635  0.0005  1.0000 \n",
      " 0.0061  0.0030  0.0303  0.0000  1.0000 \n",
      "-0.0013  0.0009  0.0074  0.0000  1.0000 \n",
      "-0.0123  0.0098  0.0671  0.0001  1.0000 \n",
      "-0.0725  0.0725  0.3868  0.0008  1.0000 \n",
      "-0.2577  0.3436  1.4318  0.0039  1.0000 \n",
      "-0.5219  1.0439  3.4796  0.0117  1.0000 \n",
      "-0.5083  2.0332  5.7607  0.0229  1.0000 \n",
      "-0.0000  2.5392  6.7711  0.0286  1.0000 \n",
      " 0.5083  2.0332  5.7607  0.0229  1.0000 \n",
      " 0.5219  1.0439  3.4796  0.0117  1.0000 \n",
      " 0.2577  0.3436  1.4318  0.0039  1.0000 \n",
      " 0.0725  0.0725  0.3868  0.0008  1.0000 \n",
      " 0.0123  0.0098  0.0671  0.0001  1.0000 \n",
      " 0.0013  0.0009  0.0074  0.0000  1.0000 \n",
      "-0.0002  0.0001  0.0012  0.0000  1.0000 \n",
      "-0.0017  0.0017  0.0111  0.0000  1.0000 \n",
      "-0.0098  0.0123  0.0671  0.0001  1.0000 \n",
      "-0.0349  0.0581  0.2635  0.0005  1.0000 \n",
      "-0.0706  0.1766  0.6828  0.0016  1.0000 \n",
      "-0.0688  0.3440  1.1924  0.0031  1.0000 \n",
      "-0.0000  0.4295  1.4318  0.0039  1.0000 \n",
      " 0.0688  0.3440  1.1924  0.0031  1.0000 \n",
      " 0.0706  0.1766  0.6828  0.0016  1.0000 \n",
      " 0.0349  0.0581  0.2635  0.0005  1.0000 \n",
      " 0.0098  0.0123  0.0671  0.0001  1.0000 \n",
      " 0.0017  0.0017  0.0111  0.0000  1.0000 \n",
      " 0.0002  0.0001  0.0012  0.0000  1.0000 \n",
      "-0.0000  0.0000  0.0001  0.0000  1.0000 \n",
      "-0.0001  0.0002  0.0012  0.0000  1.0000 \n",
      "-0.0009  0.0013  0.0074  0.0000  1.0000 \n",
      "-0.0030  0.0061  0.0303  0.0000  1.0000 \n",
      "-0.0061  0.0184  0.0817  0.0001  1.0000 \n",
      "-0.0060  0.0358  0.1472  0.0003  1.0000 \n",
      "-0.0000  0.0447  0.1789  0.0003  1.0000 \n",
      " 0.0060  0.0358  0.1472  0.0003  1.0000 \n",
      " 0.0061  0.0184  0.0817  0.0001  1.0000 \n",
      " 0.0030  0.0061  0.0303  0.0000  1.0000 \n",
      " 0.0009  0.0013  0.0074  0.0000  1.0000 \n",
      " 0.0001  0.0002  0.0012  0.0000  1.0000 \n",
      " 0.0000  0.0000  0.0001  0.0000  1.0000 \n"
     ]
    }
   ],
   "source": [
    "for i in range(jacvals.shape[0]):\n",
    "    for j in range(jacvals.shape[1]):\n",
    "        print(f\"{jacvals[i,j]:7.4f} \", end=\"\")\n",
    "    print(\"\\n\", end=\"\")"
   ]
  },
  {
   "cell_type": "code",
   "execution_count": 32,
   "metadata": {},
   "outputs": [
    {
     "name": "stdout",
     "output_type": "stream",
     "text": [
      "float32\n"
     ]
    },
    {
     "data": {
      "text/plain": [
       "<matplotlib.image.AxesImage at 0x167ede8d0>"
      ]
     },
     "execution_count": 32,
     "metadata": {},
     "output_type": "execute_result"
    },
    {
     "data": {
      "image/png": "[encoded data removed]",
      "text/plain": [
       "<Figure size 640x480 with 1 Axes>"
      ]
     },
     "metadata": {},
     "output_type": "display_data"
    }
   ],
   "source": [
    "# load data\n",
    "data = np.fromfile(\"../c_src/tests/mol01_13x13.bin\", dtype=np.uint16).reshape(\n",
    "    (13,13)\n",
    ").astype(float)\n",
    "data = jnp.array(data)\n",
    "print(data.dtype)\n",
    "plt.imshow(data)"
   ]
  },
  {
   "cell_type": "code",
   "execution_count": 33,
   "metadata": {},
   "outputs": [
    {
     "data": {
      "text/plain": [
       "<matplotlib.image.AxesImage at 0x167e2a6d0>"
      ]
     },
     "execution_count": 33,
     "metadata": {},
     "output_type": "execute_result"
    },
    {
     "data": {
      "image/png": "[encoded data removed]",
      "text/plain": [
       "<Figure size 640x480 with 1 Axes>"
      ]
     },
     "metadata": {},
     "output_type": "display_data"
    }
   ],
   "source": [
    "model = symmetric_gaussian(pars, xcoords, ycoords)\n",
    "plt.imshow(model)"
   ]
  },
  {
   "cell_type": "code",
   "execution_count": 34,
   "metadata": {},
   "outputs": [],
   "source": [
    "def objective_function(p, D, xcoords, ycoords):\n",
    "    f = symmetric_gaussian(p, xcoords, ycoords)\n",
    "    ratio = jnp.maximum(f, 1e-7) / jnp.maximum(D, 1e-7)\n",
    "    return jnp.sum(f - D - D * jnp.log(ratio))\n",
    "\n",
    "grad = jax.grad(objective_function, argnums=0)\n",
    "hess = jax.jacrev(jax.jacfwd(objective_function, argnums=0), argnums=0)"
   ]
  },
  {
   "cell_type": "code",
   "execution_count": 35,
   "metadata": {},
   "outputs": [
    {
     "data": {
      "text/plain": [
       "Array(787.5270, dtype=float32)"
      ]
     },
     "execution_count": 35,
     "metadata": {},
     "output_type": "execute_result"
    }
   ],
   "source": [
    "objective_function(pars, data, xcoords, ycoords)"
   ]
  },
  {
   "cell_type": "code",
   "execution_count": 36,
   "metadata": {},
   "outputs": [],
   "source": [
    "g = jnp.array(grad(pars, data, xcoords, ycoords))"
   ]
  },
  {
   "cell_type": "code",
   "execution_count": 37,
   "metadata": {},
   "outputs": [
    {
     "data": {
      "text/plain": [
       "Array([30.5608, -82.0825, -367.5539, -9.4707, -24.2962], dtype=float32)"
      ]
     },
     "execution_count": 37,
     "metadata": {},
     "output_type": "execute_result"
    }
   ],
   "source": [
    "g"
   ]
  },
  {
   "cell_type": "code",
   "execution_count": 38,
   "metadata": {},
   "outputs": [],
   "source": [
    "hess_appx = jacvals.T @ jnp.diag(data.ravel() / model.ravel()**2) @ jacvals"
   ]
  },
  {
   "cell_type": "code",
   "execution_count": 39,
   "metadata": {},
   "outputs": [
    {
     "data": {
      "text/plain": [
       "Array([[51.6464, -0.4159, -4.8317, -0.1053, -0.2530],\n",
       "       [-0.4159, 52.1083, 14.0173,  0.2698,  0.6859],\n",
       "       [-4.8317, 14.0173, 198.9497,  3.1126, 11.5418],\n",
       "       [-0.1053,  0.2698,  3.1126,  0.0975,  0.1873],\n",
       "       [-0.2530,  0.6859, 11.5418,  0.1873,  1.8393]], dtype=float32)"
      ]
     },
     "execution_count": 39,
     "metadata": {},
     "output_type": "execute_result"
    }
   ],
   "source": [
    "hess_appx"
   ]
  },
  {
   "cell_type": "code",
   "execution_count": 40,
   "metadata": {},
   "outputs": [],
   "source": [
    "H = jnp.array(hess(pars, data, xcoords, ycoords))"
   ]
  },
  {
   "cell_type": "code",
   "execution_count": 41,
   "metadata": {},
   "outputs": [
    {
     "data": {
      "text/plain": [
       "Array([[142.5896,  4.2322, -2.9259,  0.5059, -0.2530],\n",
       "       [ 4.2322, 137.0479,  6.4360, -1.3718,  0.6859],\n",
       "       [-2.9259,  6.4360, 364.3978, -4.2384, 11.5418],\n",
       "       [ 0.5059, -1.3718, -4.2384,  0.0975,  0.1873],\n",
       "       [-0.2530,  0.6859, 11.5418,  0.1873,  1.8393]], dtype=float32)"
      ]
     },
     "execution_count": 41,
     "metadata": {},
     "output_type": "execute_result"
    }
   ],
   "source": [
    "H"
   ]
  },
  {
   "cell_type": "code",
   "execution_count": 42,
   "metadata": {},
   "outputs": [],
   "source": [
    "w = data / (model**2)"
   ]
  },
  {
   "cell_type": "code",
   "execution_count": 30,
   "metadata": {},
   "outputs": [
    {
     "data": {
      "text/plain": [
       "<matplotlib.colorbar.Colorbar at 0x1698e5250>"
      ]
     },
     "execution_count": 30,
     "metadata": {},
     "output_type": "execute_result"
    },
    {
     "data": {
      "image/png": "[encoded data removed]",
      "text/plain": [
       "<Figure size 640x480 with 2 Axes>"
      ]
     },
     "metadata": {},
     "output_type": "display_data"
    }
   ],
   "source": [
    "plt.imshow(w)\n",
    "plt.colorbar()"
   ]
  },
  {
   "cell_type": "code",
   "execution_count": null,
   "metadata": {},
   "outputs": [],
   "source": []
  }
 ],
 "metadata": {
  "kernelspec": {
   "display_name": "inference (Python 3.11)",
   "language": "python",
   "name": "inference"
  },
  "language_info": {
   "codemirror_mode": {
    "name": "ipython",
    "version": 3
   },
   "file_extension": ".py",
   "mimetype": "text/x-python",
   "name": "python",
   "nbconvert_exporter": "python",
   "pygments_lexer": "ipython3",
   "version": "3.11.6"
  }
 },
 "nbformat": 4,
 "nbformat_minor": 2
}
