{
 "cells": [
  {
   "cell_type": "code",
   "execution_count": 1,
   "metadata": {},
   "outputs": [],
   "source": [
    "import sympy"
   ]
  },
  {
   "cell_type": "code",
   "execution_count": 2,
   "metadata": {},
   "outputs": [],
   "source": [
    "x,y,A,xc,yc,sigma,B = sympy.symbols('x y A xc yc sigma B')"
   ]
  },
  {
   "cell_type": "code",
   "execution_count": 3,
   "metadata": {},
   "outputs": [],
   "source": [
    "xarg = (x - xc)\n",
    "yarg = (y - yc)\n",
    "phi = xarg**2/(2*sigma**2) + yarg**2/(2*sigma**2)\n",
    "f = A * sympy.exp(-phi) + B"
   ]
  },
  {
   "cell_type": "code",
   "execution_count": 4,
   "metadata": {},
   "outputs": [
    {
     "name": "stdout",
     "output_type": "stream",
     "text": [
      "jacobian[0] =  A*(x - xc)*exp(-phi)/sigma**2\n",
      "jacobian[1] =  A*(y - yc)*exp(-phi)/sigma**2\n",
      "jacobian[2] =  A*(xdiff2 + ydiff2)*exp(-phi)/sigma**3\n",
      "jacobian[3] =  exp(-phi)\n",
      "jacobian[4] =  1\n"
     ]
    }
   ],
   "source": [
    "# jacobian expression\n",
    "vars = [xc, yc, sigma, A, B]\n",
    "ϕ, x_diff, y_diff, x_diff2, y_diff2 = sympy.symbols('phi xdiff ydiff xdiff2 ydiff2')\n",
    "\n",
    "f_jac = sympy.Matrix([f]).jacobian(sympy.Matrix(vars))\n",
    "sub_dict = {\n",
    "    phi: ϕ,\n",
    "    (x - xc): x_diff,\n",
    "    (y - yc): y_diff,\n",
    "    (x - xc)**2: x_diff2,\n",
    "    (y - yc)**2: y_diff2\n",
    "}\n",
    "for i, (var, jac_expr) in enumerate(zip(vars, f_jac)):\n",
    "    print(f\"jacobian[{i}] = \",\n",
    "        f\"{sympy.simplify(jac_expr.subs(sub_dict))}\")\n"
   ]
  },
  {
   "cell_type": "markdown",
   "metadata": {},
   "source": [
    "```C\n",
    "// 1. Compute differences\n",
    "double x_diff = x - xc;\n",
    "double y_diff = y - yc;\n",
    "\n",
    "// 2. Compute squares\n",
    "double x_diff_sq = x_diff * x_diff;\n",
    "double y_diff_sq = y_diff * y_diff;\n",
    "\n",
    "// 3. Compute the combined squared term\n",
    "double combined_sq = x_diff_sq + y_diff_sq;\n",
    "\n",
    "// 4. Compute the common exponential term\n",
    "double exp_term = exp(-combined_sq / (2 * sigma * sigma));\n",
    "\n",
    "// Now compute the Jacobian components\n",
    "double jacobian[5];\n",
    "jacobian[0] = exp_term;\n",
    "jacobian[1] = A * x_diff * exp_term / (sigma * sigma);\n",
    "jacobian[2] = A * y_diff * exp_term / (sigma * sigma);\n",
    "jacobian[3] = A * combined_sq * exp_term / (sigma * sigma * sigma);\n",
    "jacobian[4] = 1; // Constant term\n",
    "```"
   ]
  },
  {
   "cell_type": "code",
   "execution_count": 10,
   "metadata": {},
   "outputs": [
    {
     "name": "stdout",
     "output_type": "stream",
     "text": [
      "hessian[0,0], 0 = der1 * A*(-sigma**2 + (x - xc)**2)*exp(-phi)/sigma**4\n",
      "hessian[0,1], 1 = der1 * A*(x - xc)*(y - yc)*exp(-phi)/sigma**4\n",
      "hessian[0,2], 2 = der1 * A*(x - xc)*(-2*sigma**2 + xdiff2 + ydiff2)*exp(-phi)/sigma**5\n",
      "hessian[0,3], 3 = der1 * (x - xc)*exp(-phi)/sigma**2\n",
      "hessian[0,4], 4 = der1 * 0\n",
      "hessian[1,1], 6 = der1 * A*(-sigma**2 + (y - yc)**2)*exp(-phi)/sigma**4\n",
      "hessian[1,2], 7 = der1 * A*(y - yc)*(-2*sigma**2 + xdiff2 + ydiff2)*exp(-phi)/sigma**5\n",
      "hessian[1,3], 8 = der1 * (y - yc)*exp(-phi)/sigma**2\n",
      "hessian[1,4], 9 = der1 * 0\n",
      "hessian[2,2], 12 = der1 * A*(xdiff2 + ydiff2)*(-3*sigma**2 + xdiff2 + ydiff2)*exp(-phi)/sigma**6\n",
      "hessian[2,3], 13 = der1 * (xdiff2 + ydiff2)*exp(-phi)/sigma**3\n",
      "hessian[2,4], 14 = der1 * 0\n",
      "hessian[3,3], 18 = der1 * 0\n",
      "hessian[3,4], 19 = der1 * 0\n",
      "hessian[4,4], 24 = der1 * 0\n"
     ]
    }
   ],
   "source": [
    "for i, var in enumerate(vars):\n",
    "    jac = sympy.Matrix([f_jac[i]]).jacobian(vars)\n",
    "    for j, (v, h) in enumerate(zip(vars, jac)):\n",
    "        if (j >= i):\n",
    "            h_expr = sympy.simplify(h.subs(sub_dict))\n",
    "            print(f\"hessian[{i},{j}], {i * len(vars) + j:d} = der1 * {h_expr}\")"
   ]
  },
  {
   "cell_type": "code",
   "execution_count": null,
   "metadata": {},
   "outputs": [],
   "source": []
  }
 ],
 "metadata": {
  "kernelspec": {
   "display_name": "inference (Python 3.11)",
   "language": "python",
   "name": "inference"
  },
  "language_info": {
   "codemirror_mode": {
    "name": "ipython",
    "version": 3
   },
   "file_extension": ".py",
   "mimetype": "text/x-python",
   "name": "python",
   "nbconvert_exporter": "python",
   "pygments_lexer": "ipython3",
   "version": "3.11.6"
  }
 },
 "nbformat": 4,
 "nbformat_minor": 2
}
